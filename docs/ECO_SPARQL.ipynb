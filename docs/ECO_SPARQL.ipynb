{
 "cells": [
  {
   "cell_type": "markdown",
   "id": "taken-hypothetical",
   "metadata": {},
   "source": [
    "# ECO SPARQL\n",
    "\n",
    "Some notes on SPARQL queries used in the GeoCODES portal\n",
    "\n"
   ]
  },
  {
   "cell_type": "markdown",
   "id": "billion-france",
   "metadata": {
    "colab_type": "text",
    "id": "tQjkKcTBSSEV"
   },
   "source": [
    "## Init\n",
    "\n",
    "Packages and functions required for this notebook"
   ]
  },
  {
   "cell_type": "code",
   "execution_count": 61,
   "id": "brilliant-anatomy",
   "metadata": {
    "cellView": "both",
    "colab": {
     "base_uri": "https://localhost:8080/",
     "height": 1000
    },
    "colab_type": "code",
    "id": "65MA5UOK2yBh",
    "outputId": "6e2286b6-9b41-4366-e026-a148e67204e4"
   },
   "outputs": [],
   "source": [
    "#@title\n",
    "# !apt-get install libproj-dev proj-data proj-bin libgeos-dev\n",
    "!pip install -q cython\n",
    "!pip install -q cartopy\n",
    "!pip install -q SPARQLWrapper\n",
    "!pip install -q rdflib\n",
    "!pip install -q geopandas\n",
    "!pip install -q contextily==1.0rc2"
   ]
  },
  {
   "cell_type": "code",
   "execution_count": 62,
   "id": "strange-czech",
   "metadata": {
    "cellView": "both",
    "colab": {},
    "colab_type": "code",
    "id": "Ixx_CLPymeEP"
   },
   "outputs": [],
   "source": [
    "from SPARQLWrapper import SPARQLWrapper, JSON\n",
    "import pandas as pd\n",
    "import numpy as np\n",
    "import json\n",
    "import geopandas\n",
    "import matplotlib.pyplot as plt\n",
    "import shapely\n",
    "\n",
    "dbsparql = \"http://dbpedia.org/sparql\"\n",
    "blaze = \"http://graph.geodex.org/blazegraph/namespace/nabu/sparql\""
   ]
  },
  {
   "cell_type": "markdown",
   "id": "organizational-unemployment",
   "metadata": {
    "colab_type": "text",
    "id": "VPCguN7dQnVz"
   },
   "source": [
    "### Helping function(s)\n",
    "The following block is a SPARQL to Pandas feature.  You may need to run it to load the function per standard notebook actions."
   ]
  },
  {
   "cell_type": "code",
   "execution_count": 63,
   "id": "fourth-indication",
   "metadata": {
    "cellView": "both",
    "colab": {},
    "colab_type": "code",
    "id": "KlU0kr2R00i_"
   },
   "outputs": [],
   "source": [
    "#@title\n",
    "def get_sparql_dataframe(service, query):\n",
    "    \"\"\"\n",
    "    Helper function to convert SPARQL results into a Pandas data frame.\n",
    "    \"\"\"\n",
    "    sparql = SPARQLWrapper(service)\n",
    "    sparql.setQuery(query)\n",
    "    sparql.setReturnFormat(JSON)\n",
    "    result = sparql.query()\n",
    "\n",
    "    processed_results = json.load(result.response)\n",
    "    cols = processed_results['head']['vars']\n",
    "\n",
    "    out = []\n",
    "    for row in processed_results['results']['bindings']:\n",
    "        item = []\n",
    "        for c in cols:\n",
    "            item.append(row.get(c, {}).get('value'))\n",
    "        out.append(item)\n",
    "\n",
    "    return pd.DataFrame(out, columns=cols)"
   ]
  },
  {
   "cell_type": "markdown",
   "id": "involved-chrome",
   "metadata": {
    "colab_type": "text",
    "id": "gF-jNcIplO3X"
   },
   "source": [
    "### Set PD frame options"
   ]
  },
  {
   "cell_type": "code",
   "execution_count": 64,
   "id": "christian-virus",
   "metadata": {
    "colab": {},
    "colab_type": "code",
    "id": "Nkiij1wElRrf"
   },
   "outputs": [
    {
     "name": "stderr",
     "output_type": "stream",
     "text": [
      "<ipython-input-64-1390d13c0cdd>:4: FutureWarning: Passing a negative integer is deprecated in version 1.0 and will not be supported in future version. Instead, use None to not limit the column width.\n",
      "  pd.set_option('display.max_colwidth', -1)\n"
     ]
    }
   ],
   "source": [
    "pd.set_option('display.max_rows', None)\n",
    "pd.set_option('display.max_columns', None)\n",
    "pd.set_option('display.width', None)\n",
    "pd.set_option('display.max_colwidth', -1)"
   ]
  },
  {
   "cell_type": "markdown",
   "id": "casual-geography",
   "metadata": {
    "colab_type": "text",
    "id": "26Q2VErRPkSc"
   },
   "source": [
    "# SPARQL Queries\n",
    "\n"
   ]
  },
  {
   "cell_type": "markdown",
   "id": "pretty-extreme",
   "metadata": {
    "colab_type": "text",
    "id": "iUobpjzOZhp6"
   },
   "source": [
    "## Main Geodex Search\n",
    "\n",
    "This is the geodex, not the geocodes search."
   ]
  },
  {
   "cell_type": "code",
   "execution_count": 65,
   "id": "guilty-empty",
   "metadata": {
    "colab": {
     "base_uri": "https://localhost:8080/",
     "height": 35
    },
    "colab_type": "code",
    "id": "FHyS5D1nIHit",
    "outputId": "30607d7d-fef3-4d12-d945-3f6765ccd161"
   },
   "outputs": [],
   "source": [
    "geodex = \"\"\"\n",
    "prefix schema: <http://schema.org/>  \n",
    "prefix sschema: <https://schema.org/>  \n",
    "SELECT DISTINCT ?s ?g ?url ?score  ?name ?description   \n",
    "WHERE {     \n",
    "  ?lit bds:search \"query terms here\" .    \n",
    "  ?lit bds:matchAllTerms \"false\" .   \n",
    "  ?lit bds:relevance ?score .   \n",
    "  ?s ?p ?lit .       \n",
    "   \n",
    "  VALUES (?dataset) { ( schema:Dataset ) ( sschema:Dataset ) } \n",
    "  ?s a ?dataset .   \n",
    "  ?s schema:name|sschema:name ?name .   \n",
    " \n",
    "  graph ?g { \n",
    "  ?s schema:description|sschema:description ?description .  \n",
    "  } \n",
    " \n",
    "  OPTIONAL { \n",
    "\t?s schema:distribution|sschema:distribution ?dis .    \t \n",
    "\t?dis schema:contentUrl |sschema:contentUrl  ?url .    \t     \n",
    "  } \n",
    " \n",
    "} ORDER BY DESC(?score) \n",
    "LIMIT 10 \n",
    "OFFSET 10 \n",
    "\"\"\"\n",
    "\n",
    "dfg = get_sparql_dataframe(blaze, geodex)\n",
    "# df1.size\n",
    "# df1.describe"
   ]
  },
  {
   "cell_type": "code",
   "execution_count": 66,
   "id": "veterinary-shepherd",
   "metadata": {},
   "outputs": [
    {
     "data": {
      "text/html": [
       "<div>\n",
       "<style scoped>\n",
       "    .dataframe tbody tr th:only-of-type {\n",
       "        vertical-align: middle;\n",
       "    }\n",
       "\n",
       "    .dataframe tbody tr th {\n",
       "        vertical-align: top;\n",
       "    }\n",
       "\n",
       "    .dataframe thead th {\n",
       "        text-align: right;\n",
       "    }\n",
       "</style>\n",
       "<table border=\"1\" class=\"dataframe\">\n",
       "  <thead>\n",
       "    <tr style=\"text-align: right;\">\n",
       "      <th></th>\n",
       "      <th>s</th>\n",
       "      <th>g</th>\n",
       "      <th>url</th>\n",
       "      <th>score</th>\n",
       "      <th>name</th>\n",
       "      <th>description</th>\n",
       "    </tr>\n",
       "  </thead>\n",
       "  <tbody>\n",
       "    <tr>\n",
       "      <th>0</th>\n",
       "      <td>https://www.bco-dmo.org/dataset/808879</td>\n",
       "      <td>urn:gleaner:milled:bcodmo:89a9462546f406cf5aa5701e14270c245a5891a1</td>\n",
       "      <td>https://darchive.mblwhoilibrary.org/bitstream/1912/26187/2/dataset-808879_oyster-population-model-estimates__v1_README.txt</td>\n",
       "      <td>0.10825317547305485</td>\n",
       "      <td>Population model estimates for oysters (Crassostrea virginica) in the Choptank and Little Choptank Rivers</td>\n",
       "      <td>&lt;p&gt;This data set contains estimates derived from a population model of oysters in the Choptank and Little Choptank Rivers. The methods and data used in the model are described in Damiano et al. (2019).&lt;/p&gt;\\r\\n\\r\\n&lt;p&gt;Terms beginning with \"obs\" e.g. obs_spat, small, mk, etc. Refer to \"observed\" log-scale indices of abundance from the MD DNR Fall Dredge Survey; values were obtained from MD DNR data for fitting in the standardization model.&lt;br /&gt;\\r\\nTerms beginning with \"log_pred\" e.g. log_pred_spat, small, mk, etc. Refer&amp;nbsp;to standardized \"predicted log scale indices of relative density that have been estimated using the standardization model.&lt;br /&gt;\\r\\nTerms containing \"_mil\" suffix e.g. sp_mil, sm_mil, mk_mil contain abundance estimates from the population dynamics model in millions of oysters .&lt;/p&gt;\\r\\n</td>\n",
       "    </tr>\n",
       "  </tbody>\n",
       "</table>\n",
       "</div>"
      ],
      "text/plain": [
       "                                        s  \\\n",
       "0  https://www.bco-dmo.org/dataset/808879   \n",
       "\n",
       "                                                                    g  \\\n",
       "0  urn:gleaner:milled:bcodmo:89a9462546f406cf5aa5701e14270c245a5891a1   \n",
       "\n",
       "                                                                                                                          url  \\\n",
       "0  https://darchive.mblwhoilibrary.org/bitstream/1912/26187/2/dataset-808879_oyster-population-model-estimates__v1_README.txt   \n",
       "\n",
       "                 score  \\\n",
       "0  0.10825317547305485   \n",
       "\n",
       "                                                                                                        name  \\\n",
       "0  Population model estimates for oysters (Crassostrea virginica) in the Choptank and Little Choptank Rivers   \n",
       "\n",
       "                                                                                                                                                                                                                                                                                                                                                                                                                                                                                                                                                                                                                                                                                                                                                                                                                                       description  \n",
       "0  <p>This data set contains estimates derived from a population model of oysters in the Choptank and Little Choptank Rivers. The methods and data used in the model are described in Damiano et al. (2019).</p>\\r\\n\\r\\n<p>Terms beginning with \"obs\" e.g. obs_spat, small, mk, etc. Refer to \"observed\" log-scale indices of abundance from the MD DNR Fall Dredge Survey; values were obtained from MD DNR data for fitting in the standardization model.<br />\\r\\nTerms beginning with \"log_pred\" e.g. log_pred_spat, small, mk, etc. Refer&nbsp;to standardized \"predicted log scale indices of relative density that have been estimated using the standardization model.<br />\\r\\nTerms containing \"_mil\" suffix e.g. sp_mil, sm_mil, mk_mil contain abundance estimates from the population dynamics model in millions of oysters .</p>\\r\\n  "
      ]
     },
     "execution_count": 66,
     "metadata": {},
     "output_type": "execute_result"
    }
   ],
   "source": [
    "df1.head(1)"
   ]
  },
  {
   "cell_type": "markdown",
   "id": "analyzed-general",
   "metadata": {},
   "source": [
    "## Ask query"
   ]
  },
  {
   "cell_type": "code",
   "execution_count": 67,
   "id": "joint-advocacy",
   "metadata": {},
   "outputs": [],
   "source": [
    "ask = \"\"\"\n",
    "PREFIX schema:  <https://schema.org/>\n",
    "\tPREFIX schemaold:  <http://schema.org/>       \n",
    "\tASK      \n",
    "\tWHERE                    {                    \n",
    "\t  graph   <urn:gleaner:milled:lipdverse:005a96f740da7fb3fac07936a04a86ad9d03537c> \n",
    "\t\t  {\n",
    "\t\t\t{     \n",
    "\t\t\t  ?s schemaold:distribution|schema:distribution ?dist .    \n",
    "\t\t\t  ?dist  schemaold:encodingFormat|schema:encodingFormat ?type .  \n",
    "\t\t\t} \n",
    "\t\t\tUNION {\n",
    "\t\t\t  VALUES (?dataset) { ( schema:Dataset ) ( schemaold:Dataset ) }\n",
    "\t\t\t  ?s a ?dataset .  \n",
    "\t\t\t  ?s  schemaold:encodingFormat|schema:encodingFormat ?type . \n",
    "\t\t\t  }\n",
    "\t\t }\n",
    "\t\t BIND (str(?type) as ?label)                                                                                                        \n",
    "\t\t SERVICE <http://132.249.238.169:8080/fuseki/ecrr/query> {     \n",
    "\t\t  GRAPH <http://earthcube.org/gleaner-summoned>             \n",
    "\t\t   {   \n",
    "\t\t\t  ?rrs schemaold:supportingData ?df.\n",
    "\t\t\t\t  ?df schemaold:encodingFormat  ?label ;\n",
    "\t\t\t\t\t  schemaold:position \"input\".\t\n",
    "\t\t\t\t  ?rrs schemaold:name ?name.      \n",
    "\t\t   }                 \n",
    "\t   }               \n",
    "\t}\n",
    "\"\"\"\n"
   ]
  },
  {
   "cell_type": "code",
   "execution_count": 68,
   "id": "muslim-identifier",
   "metadata": {},
   "outputs": [
    {
     "name": "stdout",
     "output_type": "stream",
     "text": [
      "{'head': {}, 'boolean': False}\n"
     ]
    }
   ],
   "source": [
    "# can not load ASK into DF..  just print the JSON returned\n",
    "sparql = SPARQLWrapper(blaze)\n",
    "sparql.setQuery(ask)\n",
    "sparql.setReturnFormat(JSON)\n",
    "result = sparql.query()\n",
    "processed_results = json.load(result.response)\n",
    "print(processed_results)"
   ]
  },
  {
   "cell_type": "markdown",
   "id": "infinite-checklist",
   "metadata": {},
   "source": [
    "## Resource Registry to Nabu query\n",
    "\n",
    "### WARNING:  query is old, I think this needs updating"
   ]
  },
  {
   "cell_type": "code",
   "execution_count": 69,
   "id": "optical-functionality",
   "metadata": {},
   "outputs": [],
   "source": [
    "rr = \"\"\"\n",
    "PREFIX schema:  <https://schema.org/>    \n",
    "PREFIX schemaold:  <http://schema.org/>       \n",
    "select DISTINCT ?rrs ?name ?curl\n",
    "WHERE                    \n",
    "{                    \n",
    "    graph <urn:gleaner:milled:509e465d0793506b237cea8069c3cb2d276fe9c2> \n",
    "    {\n",
    "    {     \n",
    "        ?s schemaold:distribution|schema:distribution ?dist .    \n",
    "        ?dist  schemaold:encodingFormat|schema:encodingFormat ?type .  \n",
    "        ?dist schemaold:contentUrl|schema:contentUrl ?curl \n",
    "    } \n",
    "    UNION {\n",
    "    VALUES (?dataset) { ( schema:Dataset ) ( schemaold:Dataset ) }\n",
    "        ?s a ?dataset .  \n",
    "        ?s  schemaold:encodingFormat|schema:encodingFormat ?type . \n",
    "    }\n",
    "}\n",
    "    BIND (str(?type) as ?label)                                                                                                        \n",
    "    SERVICE <http://132.249.238.169:8080/fuseki/ecrr/query> {     \n",
    "        GRAPH <http://earthcube.org/gleaner-summoned>             \n",
    "        {   \n",
    "            ?rrs schema:supportingData ?df.\n",
    "            ?df schema:encodingFormat  ?label ;\n",
    "            schema:position \"input\".\t\n",
    "            ?rrs schema:name ?name.      \n",
    "        }                 \n",
    "    }               \n",
    "}\n",
    "\"\"\"\n",
    "\n",
    "dfrr = get_sparql_dataframe(blaze, rr)"
   ]
  },
  {
   "cell_type": "code",
   "execution_count": 70,
   "id": "neutral-might",
   "metadata": {},
   "outputs": [
    {
     "data": {
      "text/html": [
       "<div>\n",
       "<style scoped>\n",
       "    .dataframe tbody tr th:only-of-type {\n",
       "        vertical-align: middle;\n",
       "    }\n",
       "\n",
       "    .dataframe tbody tr th {\n",
       "        vertical-align: top;\n",
       "    }\n",
       "\n",
       "    .dataframe thead th {\n",
       "        text-align: right;\n",
       "    }\n",
       "</style>\n",
       "<table border=\"1\" class=\"dataframe\">\n",
       "  <thead>\n",
       "    <tr style=\"text-align: right;\">\n",
       "      <th></th>\n",
       "      <th>rrs</th>\n",
       "      <th>name</th>\n",
       "      <th>curl</th>\n",
       "    </tr>\n",
       "  </thead>\n",
       "  <tbody>\n",
       "  </tbody>\n",
       "</table>\n",
       "</div>"
      ],
      "text/plain": [
       "Empty DataFrame\n",
       "Columns: [rrs, name, curl]\n",
       "Index: []"
      ]
     },
     "execution_count": 70,
     "metadata": {},
     "output_type": "execute_result"
    }
   ],
   "source": [
    "dfrr.head()"
   ]
  },
  {
   "cell_type": "markdown",
   "id": "prostate-image",
   "metadata": {},
   "source": [
    "## Resource Registry get data for tool match"
   ]
  },
  {
   "cell_type": "code",
   "execution_count": 71,
   "id": "given-thought",
   "metadata": {},
   "outputs": [],
   "source": [
    "tm = \"\"\"\n",
    "PREFIX schema:  <https://schema.org/>    \n",
    "PREFIX schemaold:  <http://schema.org/>       \n",
    "select DISTINCT ?rrs ?name ?curl\n",
    "WHERE                    \n",
    "{                    \n",
    "    graph <urn:gleaner:milled:lipdverse:509e465d0793506b237cea8069c3cb2d276fe9c2> \n",
    "    {\n",
    "    {     \n",
    "        ?s schemaold:distribution|schema:distribution ?dist .    \n",
    "        ?dist  schemaold:encodingFormat|schema:encodingFormat ?type .  \n",
    "        ?dist schemaold:contentUrl|schema:contentUrl ?curl \n",
    "    } \n",
    "    UNION {\n",
    "    VALUES (?dataset) { ( schema:Dataset ) ( schemaold:Dataset ) }\n",
    "        ?s a ?dataset .  \n",
    "        ?s  schemaold:encodingFormat|schema:encodingFormat ?type . \n",
    "    }\n",
    "}\n",
    "    BIND (str(?type) as ?label)                                                                                                        \n",
    "    SERVICE <http://132.249.238.169:8080/fuseki/ecrr/query> {     \n",
    "        GRAPH <http://earthcube.org/gleaner-summoned>             \n",
    "        {   \n",
    "            ?rrs schema:supportingData ?df.\n",
    "            ?df schema:encodingFormat  ?label ;\n",
    "            schema:position \"input\".\t\n",
    "            ?rrs schema:name ?name.      \n",
    "        }                 \n",
    "    }               \n",
    "}\n",
    "\"\"\"\n",
    "\n",
    "dftm = get_sparql_dataframe(blaze, tm)"
   ]
  },
  {
   "cell_type": "code",
   "execution_count": 72,
   "id": "constitutional-grave",
   "metadata": {},
   "outputs": [
    {
     "data": {
      "text/html": [
       "<div>\n",
       "<style scoped>\n",
       "    .dataframe tbody tr th:only-of-type {\n",
       "        vertical-align: middle;\n",
       "    }\n",
       "\n",
       "    .dataframe tbody tr th {\n",
       "        vertical-align: top;\n",
       "    }\n",
       "\n",
       "    .dataframe thead th {\n",
       "        text-align: right;\n",
       "    }\n",
       "</style>\n",
       "<table border=\"1\" class=\"dataframe\">\n",
       "  <thead>\n",
       "    <tr style=\"text-align: right;\">\n",
       "      <th></th>\n",
       "      <th>rrs</th>\n",
       "      <th>name</th>\n",
       "      <th>curl</th>\n",
       "    </tr>\n",
       "  </thead>\n",
       "  <tbody>\n",
       "    <tr>\n",
       "      <th>0</th>\n",
       "      <td>http://n2t.net/ark:/23942/g2r331</td>\n",
       "      <td>Linked Paleo Data (LiPD) utilities software</td>\n",
       "      <td>http://lipdverse.org/Temp12k/1_0_2/Svartvatnet-Norway.Seppa.2009.lpd</td>\n",
       "    </tr>\n",
       "    <tr>\n",
       "      <th>1</th>\n",
       "      <td>http://n2t.net/ark:/23942/g2692r</td>\n",
       "      <td>Linked Paleo Data utilities</td>\n",
       "      <td>http://lipdverse.org/Temp12k/1_0_2/Svartvatnet-Norway.Seppa.2009.lpd</td>\n",
       "    </tr>\n",
       "    <tr>\n",
       "      <th>2</th>\n",
       "      <td>http://n2t.net/ark:/23942/g2733c</td>\n",
       "      <td>Linked Paleo Data (LiPD) Playground</td>\n",
       "      <td>http://lipdverse.org/Temp12k/1_0_2/Svartvatnet-Norway.Seppa.2009.lpd</td>\n",
       "    </tr>\n",
       "    <tr>\n",
       "      <th>3</th>\n",
       "      <td>http://n2t.net/ark:/23942/g22914</td>\n",
       "      <td>Pyleoclim</td>\n",
       "      <td>http://lipdverse.org/Temp12k/1_0_2/Svartvatnet-Norway.Seppa.2009.lpd</td>\n",
       "    </tr>\n",
       "    <tr>\n",
       "      <th>4</th>\n",
       "      <td>http://n2t.net/ark:/23942/g2600032</td>\n",
       "      <td>Pyleoclim</td>\n",
       "      <td>http://lipdverse.org/Temp12k/1_0_2/Svartvatnet-Norway.Seppa.2009.lpd</td>\n",
       "    </tr>\n",
       "  </tbody>\n",
       "</table>\n",
       "</div>"
      ],
      "text/plain": [
       "                                  rrs  \\\n",
       "0  http://n2t.net/ark:/23942/g2r331     \n",
       "1  http://n2t.net/ark:/23942/g2692r     \n",
       "2  http://n2t.net/ark:/23942/g2733c     \n",
       "3  http://n2t.net/ark:/23942/g22914     \n",
       "4  http://n2t.net/ark:/23942/g2600032   \n",
       "\n",
       "                                          name  \\\n",
       "0  Linked Paleo Data (LiPD) utilities software   \n",
       "1  Linked Paleo Data utilities                   \n",
       "2  Linked Paleo Data (LiPD) Playground           \n",
       "3  Pyleoclim                                     \n",
       "4  Pyleoclim                                     \n",
       "\n",
       "                                                                   curl  \n",
       "0  http://lipdverse.org/Temp12k/1_0_2/Svartvatnet-Norway.Seppa.2009.lpd  \n",
       "1  http://lipdverse.org/Temp12k/1_0_2/Svartvatnet-Norway.Seppa.2009.lpd  \n",
       "2  http://lipdverse.org/Temp12k/1_0_2/Svartvatnet-Norway.Seppa.2009.lpd  \n",
       "3  http://lipdverse.org/Temp12k/1_0_2/Svartvatnet-Norway.Seppa.2009.lpd  \n",
       "4  http://lipdverse.org/Temp12k/1_0_2/Svartvatnet-Norway.Seppa.2009.lpd  "
      ]
     },
     "execution_count": 72,
     "metadata": {},
     "output_type": "execute_result"
    }
   ],
   "source": [
    "dftm.head()"
   ]
  },
  {
   "cell_type": "markdown",
   "id": "tracked-massage",
   "metadata": {},
   "source": [
    "## Resource Registry template URL"
   ]
  },
  {
   "cell_type": "code",
   "execution_count": 73,
   "id": "fifty-brown",
   "metadata": {},
   "outputs": [],
   "source": [
    "tu = \"\"\"\n",
    "prefix sdos: <https://schema.org/>\n",
    "PREFIX schemaold: <http://schema.org/>\n",
    "select DISTINCT ?dataname ?appname   ?durl  ?turl ?frss\n",
    "WHERE                    \n",
    "{                     \n",
    "   graph <urn:gleaner:milled:lipdverse:509e465d0793506b237cea8069c3cb2d276fe9c2>  {   \n",
    "     ?s schemaold:distribution|sdos:distribution ?dist ;\n",
    "         schemaold:name|sdos:name ?dataname  .\n",
    "    ?dist  schemaold:encodingFormat|sdos:encodingFormat ?type .\n",
    "          OPTIONAL {?dist sdos:contentUrl ?durl }.                    \n",
    "  }                    \n",
    "  BIND (str(?type) as ?label)                   \n",
    " SERVICE <http://132.249.238.169:8080/fuseki/ecrr/query> {   \n",
    "   GRAPH <http://earthcube.org/gleaner-summoned>     \n",
    " \n",
    "         {   \n",
    "                           \n",
    "           ?rrs a sdos:SoftwareApplication ;\n",
    "                sdos:name ?appname ;\n",
    "                sdos:supportingData ?df.\n",
    "           ?df sdos:encodingFormat ?label ;\n",
    "                sdos:position \"input\".\n",
    "           ?rrs sdos:potentialAction ?act.\n",
    "           ?act sdos:target ?tar.\n",
    "           ?tar a sdos:EntryPoint ;\n",
    "            sdos:urlTemplate ?turl.\n",
    "           filter contains(?turl,\"{contentURL}\")\n",
    "    \n",
    "    }                     \n",
    " }                     \n",
    "}\n",
    "\"\"\"\n",
    "\n",
    "dftu = get_sparql_dataframe(blaze, tu)"
   ]
  },
  {
   "cell_type": "code",
   "execution_count": 74,
   "id": "narrow-franchise",
   "metadata": {},
   "outputs": [
    {
     "data": {
      "text/html": [
       "<div>\n",
       "<style scoped>\n",
       "    .dataframe tbody tr th:only-of-type {\n",
       "        vertical-align: middle;\n",
       "    }\n",
       "\n",
       "    .dataframe tbody tr th {\n",
       "        vertical-align: top;\n",
       "    }\n",
       "\n",
       "    .dataframe thead th {\n",
       "        text-align: right;\n",
       "    }\n",
       "</style>\n",
       "<table border=\"1\" class=\"dataframe\">\n",
       "  <thead>\n",
       "    <tr style=\"text-align: right;\">\n",
       "      <th></th>\n",
       "      <th>dataname</th>\n",
       "      <th>appname</th>\n",
       "      <th>durl</th>\n",
       "      <th>turl</th>\n",
       "      <th>frss</th>\n",
       "    </tr>\n",
       "  </thead>\n",
       "  <tbody>\n",
       "    <tr>\n",
       "      <th>0</th>\n",
       "      <td>Svartvatnet-Norway.Seppa.2009</td>\n",
       "      <td>Linked Paleo Data (LiPD) Playground</td>\n",
       "      <td>http://lipdverse.org/Temp12k/1_0_2/Svartvatnet-Norway.Seppa.2009.lpd</td>\n",
       "      <td>https://lipd.net/playground?source={contentURL}</td>\n",
       "      <td>None</td>\n",
       "    </tr>\n",
       "  </tbody>\n",
       "</table>\n",
       "</div>"
      ],
      "text/plain": [
       "                        dataname                              appname  \\\n",
       "0  Svartvatnet-Norway.Seppa.2009  Linked Paleo Data (LiPD) Playground   \n",
       "\n",
       "                                                                   durl  \\\n",
       "0  http://lipdverse.org/Temp12k/1_0_2/Svartvatnet-Norway.Seppa.2009.lpd   \n",
       "\n",
       "                                              turl  frss  \n",
       "0  https://lipd.net/playground?source={contentURL}  None  "
      ]
     },
     "execution_count": 74,
     "metadata": {},
     "output_type": "execute_result"
    }
   ],
   "source": [
    "dftu.head()"
   ]
  },
  {
   "cell_type": "code",
   "execution_count": null,
   "id": "urban-orlando",
   "metadata": {},
   "outputs": [],
   "source": []
  }
 ],
 "metadata": {
  "kernelspec": {
   "display_name": "Python 3",
   "language": "python",
   "name": "python3"
  },
  "language_info": {
   "codemirror_mode": {
    "name": "ipython",
    "version": 3
   },
   "file_extension": ".py",
   "mimetype": "text/x-python",
   "name": "python",
   "nbconvert_exporter": "python",
   "pygments_lexer": "ipython3",
   "version": "3.8.6"
  }
 },
 "nbformat": 4,
 "nbformat_minor": 5
}
